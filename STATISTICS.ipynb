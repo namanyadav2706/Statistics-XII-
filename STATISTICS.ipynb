{
 "cells": [
  {
   "cell_type": "code",
   "execution_count": 41,
   "metadata": {},
   "outputs": [
    {
     "name": "stdout",
     "output_type": "stream",
     "text": [
      "Average= 105\n",
      "Highest Score= 152\n",
      "Lowest Score= 52\n",
      "Mean Deviation= 30.49\n"
     ]
    }
   ],
   "source": [
    "# DEVDUTT PADDIKAL VIJAY HAZARE TROPHY SCORES(ungrouped data or individual observation)(using mean as central velue):\n",
    "\n",
    "sum=0\n",
    "n=0\n",
    "score=[52,97,152,126,145,101,65]\n",
    "for run in score:                           ## finding mean(average)\n",
    "    sum=sum+run\n",
    "    n=n+1\n",
    "    avg=sum/n\n",
    "print(\"Average=\",int(avg))\n",
    "print(\"Highest Score=\",max(score))\n",
    "print(\"Lowest Score=\",min(score))\n",
    "\n",
    "add=0                                      ## finding mean deviation\n",
    "for i in score:\n",
    "    d=abs(i-avg)\n",
    "    add=add+d\n",
    "print(\"Mean Deviation=\",\"%.2f\"%(add/n))    ## restricting the floating value upto two decimals point"
   ]
  },
  {
   "cell_type": "code",
   "execution_count": 42,
   "metadata": {},
   "outputs": [
    {
     "name": "stdout",
     "output_type": "stream",
     "text": [
      "[34, 38, 42, 44, 46, 48, 54, 55, 63, 70]\n",
      "NO. of elements is  10\n",
      "Median= 47.0\n",
      "Mean= 49.4\n",
      "Mean Deviation= 8.6\n",
      "Mean Deviation(X)= 8.88\n"
     ]
    }
   ],
   "source": [
    "# Mean Deviation of indivisual observations using median as a central value:\n",
    "\n",
    "data=[38,70,48,34,42,55,63,46,54,44]\n",
    "data.sort()                       ## arranging the list in accending order\n",
    "print(data)\n",
    "n=len(data)                       ## finding the length of the list\n",
    "print(\"NO. of elements is \",n)\n",
    "\n",
    "import statistics                 ## finding mean and medium using python libraries\n",
    "m=statistics.median(data)\n",
    "X=statistics.mean(data)\n",
    "print(\"Median=\",m)\n",
    "print(\"Mean=\",X)\n",
    "\n",
    "add=0                             ## finding mean deviation using median\n",
    "for i in data:\n",
    "    d=abs(i-m)\n",
    "    add=add+d\n",
    "print(\"Mean Deviation=\",(add/n))\n",
    "\n",
    "add=0                             ## finding mean deviation using mean\n",
    "for i in data:\n",
    "    d=abs(i-X)\n",
    "    add=add+d\n",
    "print(\"Mean Deviation(X)=\",\"%.2f\"%(add/n))  ## restricting the floating value upto two decimals point"
   ]
  },
  {
   "cell_type": "code",
   "execution_count": 43,
   "metadata": {},
   "outputs": [
    {
     "name": "stdout",
     "output_type": "stream",
     "text": [
      "[34, 38, 42, 44, 46, 48, 54, 55, 63, 70]\n",
      "NO. of elements is  10\n",
      "Median is: 47.0\n"
     ]
    }
   ],
   "source": [
    "# Finding median without using libraries\n",
    "\n",
    "data=[38,70,48,34,42,55,63,46,54,44]\n",
    "data.sort()\n",
    "print(data)\n",
    "\n",
    "n=len(data)\n",
    "print(\"NO. of elements is \",n)\n",
    "\n",
    "if n%2==0:                    ## if number of elements in a list are even\n",
    "    m1=data[n//2]\n",
    "    m2=data[n//2-1]\n",
    "    med=(m1+m2)/2\n",
    "else:                         ## if number of elements in a list are odd\n",
    "    med=data[n//2]\n",
    "print(\"Median is: \"+ str(med))"
   ]
  },
  {
   "cell_type": "code",
   "execution_count": 1,
   "metadata": {},
   "outputs": [
    {
     "name": "stdout",
     "output_type": "stream",
     "text": [
      "fx=[40, 720, 1400, 1120, 640]\n",
      "Mean= 49.0\n",
      "z= [39, 19, 1, 21, 31]\n",
      "fz= [156, 456, 28, 336, 248]\n",
      "Mean Deviation= 15.30\n"
     ]
    }
   ],
   "source": [
    "## finding mean deviation of discrete frequency distribution(using mean):\n",
    "\n",
    "x=[10,30,50,70,80]\n",
    "f=[4,24,28,16,8]\n",
    "fx=[]\n",
    "a=len(x)\n",
    "for i in range (0,a):\n",
    "    fx.append(x[i]*f[i])\n",
    "print(\"fx=\"+ str(fx))\n",
    "\n",
    "F=sum(f)\n",
    "FX=sum(fx)\n",
    "X=FX/F\n",
    "print(\"Mean=\",X)\n",
    "\n",
    "z=[]\n",
    "for j in range (0,a):\n",
    "    z.append(abs(int(x[j]-X)))\n",
    "print(\"z=\",z)\n",
    "fz=[]\n",
    "\n",
    "for k in range (0,a):\n",
    "    fz.append(f[k]*z[k])\n",
    "print(\"fz=\",fz)\n",
    "\n",
    "FZ=sum(fz)\n",
    "md=FZ/F\n",
    "print(\"Mean Deviation=\",\"%.2f\"%md)"
   ]
  },
  {
   "cell_type": "code",
   "execution_count": 10,
   "metadata": {},
   "outputs": [
    {
     "name": "stdout",
     "output_type": "stream",
     "text": [
      "x= [15, 25, 35, 45, 55, 65, 75]\n",
      "fx=[30, 75, 280, 630, 440, 195, 150]\n",
      "Mean= 45.0\n",
      "z= [30, 20, 10, 0, 10, 20, 30]\n",
      "fz= [60, 60, 80, 0, 80, 60, 60]\n",
      "Mean Deviation= 10.00\n"
     ]
    }
   ],
   "source": [
    "## finding mean deviation of continuous frequency distribution(using mean):\n",
    "\n",
    "u_class=[10,20,30,40,50,60,70]\n",
    "l_class=[20,30,40,50,60,70,80]\n",
    "f=[2,3,8,14,8,3,2]\n",
    "\n",
    "x=[]\n",
    "n=len(u_class)\n",
    "for i in range (0,n):\n",
    "    x.append(int((u_class[i]+l_class[i])/2))\n",
    "print(\"x=\",x)\n",
    "\n",
    "fx=[]\n",
    "a=len(x)\n",
    "for i in range (0,a):\n",
    "    fx.append(x[i]*f[i])\n",
    "print(\"fx=\"+ str(fx))\n",
    "\n",
    "F=sum(f)\n",
    "FX=sum(fx)\n",
    "X=FX/F\n",
    "print(\"Mean=\",X)\n",
    "\n",
    "z=[]\n",
    "for j in range (0,a):\n",
    "    z.append(abs(int(x[j]-X)))\n",
    "print(\"z=\",z)\n",
    "fz=[]\n",
    "\n",
    "for k in range (0,a):\n",
    "    fz.append(f[k]*z[k])\n",
    "print(\"fz=\",fz)\n",
    "\n",
    "FZ=sum(fz)\n",
    "md=FZ/F\n",
    "print(\"Mean Deviation=\",\"%.2f\"%md)"
   ]
  },
  {
   "cell_type": "code",
   "execution_count": 28,
   "metadata": {},
   "outputs": [
    {
     "name": "stdout",
     "output_type": "stream",
     "text": [
      "Mean= 14.00\n",
      "z= [-6, -2, -1, 1, 8]\n",
      "z^2= [36, 4, 1, 1, 64]\n",
      "Variance= 21.2\n",
      "Standard Deviation= 4.604\n"
     ]
    }
   ],
   "source": [
    "## finding variation and standard deviation of individual observations\n",
    "\n",
    "x=[8,12,13,15,22]\n",
    "\n",
    "import statistics\n",
    "X=statistics.mean(x)\n",
    "print(\"Mean=\",\"%.2f\"%X)\n",
    "\n",
    "z=[]\n",
    "n=len(x)\n",
    "for i in range (0,n):\n",
    "    z.append(x[i]-X)\n",
    "print(\"z=\",z)\n",
    "\n",
    "z_2=[]\n",
    "for j in range (0,n):\n",
    "    z_2.append(z[j]*z[j])\n",
    "print(\"z^2=\",z_2)\n",
    "\n",
    "Z=sum(z_2)\n",
    "var=Z/n\n",
    "print(\"Variance=\",var)\n",
    "\n",
    "sd=abs(var**0.5)\n",
    "print(\"Standard Deviation=\",\"%.3f\"%sd)"
   ]
  },
  {
   "cell_type": "code",
   "execution_count": 40,
   "metadata": {},
   "outputs": [
    {
     "name": "stdout",
     "output_type": "stream",
     "text": [
      "fx= [8, 16, 30, 120, 80, 60, 56, 80]\n",
      "Mean= 9.00\n",
      "z= [-7, -5, -3, -1, 1, 3, 5, 7]\n",
      "z^2= [49, 25, 9, 1, 1, 9, 25, 49]\n",
      "fz^2 [196, 100, 45, 15, 8, 45, 100, 245]\n",
      "Variance= 15.08\n",
      "Standard Deviation= 3.88\n"
     ]
    }
   ],
   "source": [
    "## finding variation and standard deviation of discrete frequency distribution:\n",
    "\n",
    "x=[2,4,6,8,10,12,14,16]\n",
    "f=[4,4,5,15,8,5,4,5]\n",
    "\n",
    "fx=[]\n",
    "n=len(x)\n",
    "for i in range (0,n):\n",
    "    fx.append(x[i]*f[i])\n",
    "print(\"fx=\",fx)\n",
    "\n",
    "FX=sum(fx)\n",
    "F=sum(f)\n",
    "X=FX/F\n",
    "print(\"Mean=\",\"%.2f\"%X)\n",
    "\n",
    "z=[]\n",
    "for j in range (0,n):\n",
    "    z.append(int(x[j]-X))\n",
    "print(\"z=\",z)\n",
    "\n",
    "z_2=[]\n",
    "for j in range (0,n):\n",
    "    z_2.append(z[j]*z[j])\n",
    "print(\"z^2=\",z_2)\n",
    "\n",
    "fz_2=[]\n",
    "for k in range (0,n):\n",
    "    fz_2.append(f[k]*z_2[k])\n",
    "print(\"fz^2\",fz_2)\n",
    "\n",
    "FZ_2=sum(fz_2)\n",
    "var=FZ_2/F\n",
    "print(\"Variance=\",\"%.2f\"%var)\n",
    "\n",
    "sd=abs(var**0.5)\n",
    "print(\"Standard Deviation=\",\"%.2f\"%sd)"
   ]
  },
  {
   "cell_type": "code",
   "execution_count": 58,
   "metadata": {},
   "outputs": [
    {
     "name": "stdout",
     "output_type": "stream",
     "text": [
      "x= [25, 35, 45, 55, 65, 75, 85]\n",
      "u= [-3, -2, -1, 0, 1, 2, 3]\n",
      "fu= [-9, -12, -13, 0, 14, 10, 12]\n",
      "u^2= [9, 4, 1, 0, 1, 4, 9]\n",
      "fu^2 [27, 24, 13, 0, 14, 20, 36]\n",
      "Mean= 55.333\n",
      "Variance= 223.222\n",
      "Standard Deviation= 14.94\n"
     ]
    }
   ],
   "source": [
    "## finding variation and standard deviation of continuous frequency distribution:\n",
    "\n",
    "u_class=[20,30,40,50,60,70,80]\n",
    "l_class=[30,40,50,60,70,80,90]\n",
    "f=[3,6,13,15,14,5,4]\n",
    "\n",
    "x=[]\n",
    "n=len(u_class)\n",
    "for i in range (0,n):\n",
    "    x.append(int((u_class[i]+l_class[i])/2))\n",
    "print(\"x=\",x)\n",
    "\n",
    "h=l_class[0]-u_class[0]\n",
    "d=n//2\n",
    "if d%2==1:\n",
    "    d=n//2\n",
    "else:\n",
    "    d=(n//2)-1\n",
    "am=x[d]\n",
    "u=[]\n",
    "for j in range (0,n):\n",
    "    u.append(int((x[j]-am)/h))\n",
    "print(\"u=\",u)\n",
    "\n",
    "fu=[]\n",
    "for k in range (0,n):\n",
    "    fu.append(f[k]*u[k])\n",
    "print(\"fu=\",fu)\n",
    "FU=sum(fu)\n",
    "\n",
    "u_2=[]\n",
    "for p in range (0,n):\n",
    "    u_2.append(u[p]*u[p])\n",
    "print(\"u^2=\",u_2)\n",
    "\n",
    "fu_2=[]\n",
    "for q in range (0,n):\n",
    "    fu_2.append(f[q]*u_2[q])\n",
    "print(\"fu^2\",fu_2)\n",
    "FU_2=sum(fu_2)\n",
    "\n",
    "F=sum(f)\n",
    "X=am+(10*(FU/F))\n",
    "print(\"Mean=\",\"%.3f\"%X)\n",
    "\n",
    "a=FU_2/F\n",
    "b=(FU/F)**2\n",
    "var=(h**2)*(a-b)\n",
    "print(\"Variance=\",\"%.3f\"%var)\n",
    "\n",
    "sd=abs(var**0.5)\n",
    "print(\"Standard Deviation=\",\"%.2f\"%sd)"
   ]
  },
  {
   "cell_type": "code",
   "execution_count": null,
   "metadata": {},
   "outputs": [],
   "source": []
  },
  {
   "cell_type": "code",
   "execution_count": null,
   "metadata": {},
   "outputs": [],
   "source": []
  }
 ],
 "metadata": {
  "kernelspec": {
   "display_name": "Python 3",
   "language": "python",
   "name": "python3"
  },
  "language_info": {
   "codemirror_mode": {
    "name": "ipython",
    "version": 3
   },
   "file_extension": ".py",
   "mimetype": "text/x-python",
   "name": "python",
   "nbconvert_exporter": "python",
   "pygments_lexer": "ipython3",
   "version": "3.8.5"
  }
 },
 "nbformat": 4,
 "nbformat_minor": 4
}
